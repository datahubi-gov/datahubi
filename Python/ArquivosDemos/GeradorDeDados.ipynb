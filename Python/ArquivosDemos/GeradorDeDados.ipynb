{
 "metadata": {
  "language_info": {
   "codemirror_mode": {
    "name": "ipython",
    "version": 3
   },
   "file_extension": ".py",
   "mimetype": "text/x-python",
   "name": "python",
   "nbconvert_exporter": "python",
   "pygments_lexer": "ipython3",
   "version": "3.9.5"
  },
  "orig_nbformat": 2,
  "kernelspec": {
   "name": "python395jvsc74a57bd0ac59ebe37160ed0dfa835113d9b8498d9f09ceb179beaac4002f036b9467c963",
   "display_name": "Python 3.9.5 64-bit"
  },
  "metadata": {
   "interpreter": {
    "hash": "ac59ebe37160ed0dfa835113d9b8498d9f09ceb179beaac4002f036b9467c963"
   }
  }
 },
 "nbformat": 4,
 "nbformat_minor": 2,
 "cells": [
  {
   "source": [
    "# Gerador de Dados - Ficticios\n",
    "\n",
    "    Primeiro importa a lista de bairros com geodados que servirá de base de referência\n",
    "    Salva em CSV"
   ],
   "cell_type": "markdown",
   "metadata": {}
  },
  {
   "cell_type": "code",
   "execution_count": null,
   "metadata": {},
   "outputs": [],
   "source": [
    "import requests\n",
    "uriBairros = 'http://hedsdesign.com/dados/Bairros.kml.txt'\n",
    "r = requests.get(uriBairros, allow_redirects=True)\n",
    "open('bairros.kml', 'wb').write(r.content)"
   ]
  },
  {
   "cell_type": "code",
   "execution_count": null,
   "metadata": {},
   "outputs": [],
   "source": [
    "import geopandas as gpd\n",
    "import fiona\n",
    "from unidecode import unidecode\n",
    "\n",
    "gpd.io.file.fiona.drvsupport.supported_drivers['KML'] = 'rw'\n",
    "bairros = gpd.read_file(\"bairros.kml\", driver='KML')\n",
    "bairros[\"Name\"] = bairros[\"Name\"].str.upper().apply(unidecode).str.replace(\"BAIRRO\",\"\",regex=False).str.strip() # coloca em maiusculo e retira acentuação e remove a palavra bairro\n",
    "bairros.columns = ['bairro', 'descricao', 'geometry'] # Renomeia as colunas\n",
    "bairros"
   ]
  },
  {
   "source": [
    "# Gera os dados aleatórios pdendo criar tendência"
   ],
   "cell_type": "markdown",
   "metadata": {}
  },
  {
   "cell_type": "code",
   "execution_count": null,
   "metadata": {},
   "outputs": [],
   "source": [
    "import numpy as np\n",
    "import pandas as pd\n",
    "import faker\n",
    "fake = faker.Faker()\n",
    "import datetime\n",
    "\n",
    "# Adicionar Peso nos bairros\n",
    "bairros[\"peso\"] = 0.001 #Adicoina peso igual\n",
    "bairros.loc[bairros[\"bairro\"]=='CENTRO','peso'] =0.2\n",
    "bairros.loc[bairros[\"bairro\"]=='SAO JOAO','peso'] =0.15\n",
    "bairros.loc[bairros[\"bairro\"]=='ENTROCAMENTO','peso'] =0.15\n",
    "bairros.loc[bairros[\"bairro\"]=='SENADOR','peso'] =0.150000\n",
    "bairros.loc[bairros[\"bairro\"]=='ARAGUAINA SUL','peso'] =0.0499\n",
    "bairros.loc[bairros[\"bairro\"]=='CIMBA','peso'] =0.031\n",
    "bairros.loc[bairros[\"bairro\"]=='NOROESTE','peso'] =0.05\n",
    "bairros.loc[bairros[\"bairro\"]=='SETOR BRASIL','peso'] =0.05\n",
    "bairros.loc[bairros[\"bairro\"]=='SETOR ANHANGUERA','peso'] =0.05\n",
    "bairros.loc[bairros[\"bairro\"]=='JORGE IUNES','peso'] =0.0501\n",
    "\n",
    "# Montar a lista fake\n",
    "qtd = 30 #Quantidade de Registros\n",
    "data_inicial = datetime.date(2020, 1, 1)\n",
    "data_final = datetime.date(2020, 12, 31)\n",
    "lista_tipos = ['Sem pedestre','Com pedestre']\n",
    "lista_tipos_peso = [0.2,0.8]\n",
    "\n",
    "def gerar_datas(qtd = 50):\n",
    "    lista_mes = [1,2,3,4,5,6,7,8,9,10,11,12]\n",
    "    lista_mes_peso = [0.15,0.1,0.05,0.05,0.05,0.1,0.1,0.05,0.05,0.05,0.16,0.09]\n",
    "    lista_ano = [2020,2019,2018]\n",
    "    lista_ano_peso = [0.3,0.2,0.5,]  \n",
    "    datas = pd.DataFrame({'mes':np.random.choice(lista_mes, qtd,p=lista_mes_peso),'ano':np.random.choice(lista_ano, qtd,p=lista_ano_peso)})\n",
    "    datas['data'] = pd.to_datetime(datas[\"ano\"].astype(str) + '-' + datas[\"mes\"].astype(str) + '-01')\n",
    "    return datas\n",
    "\n",
    "\n",
    "ids = []\n",
    "ba = np.random.choice(bairros['bairro'], qtd,p=bairros.peso)\n",
    "datas = gerar_datas(qtd)\n",
    "tipos = np.random.choice(lista_tipos, qtd,p=lista_tipos_peso)\n",
    "\n",
    "for i in range(qtd):    \n",
    "    ids.append(f'{fake.unique.random_int(min=1, max=qtd+10)}')\n",
    "dados = pd.DataFrame({'id':ids,'bairro':ba,'data':datas['data'],'tipo':tipos,'ano':datas['ano'],'mes':datas['mes']})\n",
    "\n",
    "dados.data = pd.to_datetime(dados.data) # Comverte pra datetime\n",
    "\n",
    "dados.to_json('dados.json',orient=\"records\") #salva os registros\n"
   ]
  }
 ]
}