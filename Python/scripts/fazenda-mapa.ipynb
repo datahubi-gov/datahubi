{
 "metadata": {
  "language_info": {
   "codemirror_mode": {
    "name": "ipython",
    "version": 3
   },
   "file_extension": ".py",
   "mimetype": "text/x-python",
   "name": "python",
   "nbconvert_exporter": "python",
   "pygments_lexer": "ipython3",
   "version": "3.9.5"
  },
  "orig_nbformat": 2,
  "kernelspec": {
   "name": "python395jvsc74a57bd0ac59ebe37160ed0dfa835113d9b8498d9f09ceb179beaac4002f036b9467c963",
   "display_name": "Python 3.9.5 64-bit"
  },
  "metadata": {
   "interpreter": {
    "hash": "ac59ebe37160ed0dfa835113d9b8498d9f09ceb179beaac4002f036b9467c963"
   }
  }
 },
 "nbformat": 4,
 "nbformat_minor": 2,
 "cells": [
  {
   "cell_type": "code",
   "execution_count": null,
   "metadata": {},
   "outputs": [],
   "source": [
    "import pandas as pd\n",
    "from bairrosgeo import bairros\n",
    "ba = bairros()\n",
    "ba.head()"
   ]
  },
  {
   "cell_type": "code",
   "execution_count": null,
   "metadata": {},
   "outputs": [],
   "source": [
    "lanc = pd.read_csv('../dados/fazenda/dados_sefaz_lancamentos.csv',sep=\";\")\n",
    "lanc[\"vencimento\"] = pd.to_datetime(lanc['vencimento'])\n",
    "lanc['ano'] = pd.DatetimeIndex(lanc['vencimento']).year\n",
    "lanc.head()"
   ]
  },
  {
   "cell_type": "code",
   "execution_count": null,
   "metadata": {},
   "outputs": [],
   "source": [
    "total_pago = lanc.loc[(lanc['ano']==2020) & (lanc['pago']=='SIM')].drop(columns=['id','vencimento','exercicio','tipo','pago','ano']).groupby('bairro').sum().reset_index()\n",
    "\n",
    "total_pendente = lanc.loc[(lanc['ano']==2020) & (lanc['pago']=='NAO')].drop(columns=['id','vencimento','exercicio','tipo','pago','ano']).groupby('bairro').sum().reset_index()\n"
   ]
  },
  {
   "cell_type": "code",
   "execution_count": null,
   "metadata": {},
   "outputs": [],
   "source": [
    "#Merge os dados\n",
    "df_mapa_pago = ba.merge(total_pago,how='left',left_on='bairro',right_on='bairro').drop(columns=['descricao'])\n",
    "df_mapa_pendente = ba.merge(total_pendente,how='left',left_on='bairro',right_on='bairro').drop(columns=['descricao'])"
   ]
  },
  {
   "cell_type": "code",
   "execution_count": null,
   "metadata": {},
   "outputs": [],
   "source": [
    "df_mapa_pago.plot(column='valor',legend=True,figsize=(22,8),cmap='PuBu',edgecolor='black',linewidth=0.2)\n",
    "# df_mapa_pendente.plot(column='valor',legend=True,figsize=(22,8),cmap='PuBuGn',edgecolor='black',linewidth=0.2)\n",
    "# df_mapa_pendente.plot(column='valor',legend=True,figsize=(22,8),cmap='twilight',edgecolor='black',linewidth=0.2)\n",
    "# df_mapa_pendente.plot(column='valor',legend=True,figsize=(22,8),cmap='Paired',edgecolor='black',linewidth=0.2)\n",
    "# df_mapa_pendente.plot(column='valor',legend=True,figsize=(22,8),cmap='ocean',edgecolor='black',linewidth=0.2)"
   ]
  }
 ]
}